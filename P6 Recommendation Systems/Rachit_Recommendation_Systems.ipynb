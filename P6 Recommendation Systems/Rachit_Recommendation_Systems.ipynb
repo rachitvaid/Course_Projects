{
 "cells": [
  {
   "cell_type": "code",
   "execution_count": 1,
   "metadata": {},
   "outputs": [],
   "source": [
    "## Importing the basic libraries\n",
    "import pandas as pd\n",
    "import numpy as np\n",
    "import matplotlib.pyplot as plt\n",
    "%matplotlib inline \n",
    "import os\n",
    "import seaborn as sns"
   ]
  },
  {
   "cell_type": "code",
   "execution_count": 2,
   "metadata": {},
   "outputs": [],
   "source": [
    "## Importing methods from surprise library for recommendation models\n",
    "from surprise.model_selection import train_test_split, GridSearchCV\n",
    "from surprise import Dataset, Reader\n",
    "from surprise import accuracy\n",
    "from surprise import SVD, KNNWithMeans"
   ]
  },
  {
   "cell_type": "code",
   "execution_count": 3,
   "metadata": {},
   "outputs": [
    {
     "data": {
      "text/plain": [
       "['.ipynb_checkpoints',\n",
       " 'Problem Statement - Recommendation Systems.pdf',\n",
       " 'Rachit_Recommendation_Systems.ipynb',\n",
       " 'ratings_Electronics.csv']"
      ]
     },
     "execution_count": 3,
     "metadata": {},
     "output_type": "execute_result"
    }
   ],
   "source": [
    "## Listing files for input file name\n",
    "os.listdir()"
   ]
  },
  {
   "cell_type": "code",
   "execution_count": 4,
   "metadata": {},
   "outputs": [
    {
     "data": {
      "text/html": [
       "<div>\n",
       "<style scoped>\n",
       "    .dataframe tbody tr th:only-of-type {\n",
       "        vertical-align: middle;\n",
       "    }\n",
       "\n",
       "    .dataframe tbody tr th {\n",
       "        vertical-align: top;\n",
       "    }\n",
       "\n",
       "    .dataframe thead th {\n",
       "        text-align: right;\n",
       "    }\n",
       "</style>\n",
       "<table border=\"1\" class=\"dataframe\">\n",
       "  <thead>\n",
       "    <tr style=\"text-align: right;\">\n",
       "      <th></th>\n",
       "      <th>userId</th>\n",
       "      <th>productId</th>\n",
       "      <th>ratings</th>\n",
       "      <th>timestamp</th>\n",
       "    </tr>\n",
       "  </thead>\n",
       "  <tbody>\n",
       "    <tr>\n",
       "      <th>0</th>\n",
       "      <td>AKM1MP6P0OYPR</td>\n",
       "      <td>0132793040</td>\n",
       "      <td>5.0</td>\n",
       "      <td>1365811200</td>\n",
       "    </tr>\n",
       "    <tr>\n",
       "      <th>1</th>\n",
       "      <td>A2CX7LUOHB2NDG</td>\n",
       "      <td>0321732944</td>\n",
       "      <td>5.0</td>\n",
       "      <td>1341100800</td>\n",
       "    </tr>\n",
       "    <tr>\n",
       "      <th>2</th>\n",
       "      <td>A2NWSAGRHCP8N5</td>\n",
       "      <td>0439886341</td>\n",
       "      <td>1.0</td>\n",
       "      <td>1367193600</td>\n",
       "    </tr>\n",
       "    <tr>\n",
       "      <th>3</th>\n",
       "      <td>A2WNBOD3WNDNKT</td>\n",
       "      <td>0439886341</td>\n",
       "      <td>3.0</td>\n",
       "      <td>1374451200</td>\n",
       "    </tr>\n",
       "    <tr>\n",
       "      <th>4</th>\n",
       "      <td>A1GI0U4ZRJA8WN</td>\n",
       "      <td>0439886341</td>\n",
       "      <td>1.0</td>\n",
       "      <td>1334707200</td>\n",
       "    </tr>\n",
       "  </tbody>\n",
       "</table>\n",
       "</div>"
      ],
      "text/plain": [
       "           userId   productId  ratings   timestamp\n",
       "0   AKM1MP6P0OYPR  0132793040      5.0  1365811200\n",
       "1  A2CX7LUOHB2NDG  0321732944      5.0  1341100800\n",
       "2  A2NWSAGRHCP8N5  0439886341      1.0  1367193600\n",
       "3  A2WNBOD3WNDNKT  0439886341      3.0  1374451200\n",
       "4  A1GI0U4ZRJA8WN  0439886341      1.0  1334707200"
      ]
     },
     "execution_count": 4,
     "metadata": {},
     "output_type": "execute_result"
    }
   ],
   "source": [
    "## Loading the dataset and defining columns as per given case study document\n",
    "e_ratings=pd.read_csv(\"ratings_Electronics.csv\", names=[\"userId\",\"productId\",\"ratings\",\"timestamp\"])\n",
    "## Displaying top 5 rows\n",
    "e_ratings.head(5)"
   ]
  },
  {
   "cell_type": "code",
   "execution_count": 5,
   "metadata": {},
   "outputs": [
    {
     "data": {
      "text/html": [
       "<div>\n",
       "<style scoped>\n",
       "    .dataframe tbody tr th:only-of-type {\n",
       "        vertical-align: middle;\n",
       "    }\n",
       "\n",
       "    .dataframe tbody tr th {\n",
       "        vertical-align: top;\n",
       "    }\n",
       "\n",
       "    .dataframe thead th {\n",
       "        text-align: right;\n",
       "    }\n",
       "</style>\n",
       "<table border=\"1\" class=\"dataframe\">\n",
       "  <thead>\n",
       "    <tr style=\"text-align: right;\">\n",
       "      <th></th>\n",
       "      <th>userId</th>\n",
       "      <th>productId</th>\n",
       "      <th>ratings</th>\n",
       "    </tr>\n",
       "  </thead>\n",
       "  <tbody>\n",
       "    <tr>\n",
       "      <th>0</th>\n",
       "      <td>AKM1MP6P0OYPR</td>\n",
       "      <td>0132793040</td>\n",
       "      <td>5.0</td>\n",
       "    </tr>\n",
       "    <tr>\n",
       "      <th>1</th>\n",
       "      <td>A2CX7LUOHB2NDG</td>\n",
       "      <td>0321732944</td>\n",
       "      <td>5.0</td>\n",
       "    </tr>\n",
       "    <tr>\n",
       "      <th>2</th>\n",
       "      <td>A2NWSAGRHCP8N5</td>\n",
       "      <td>0439886341</td>\n",
       "      <td>1.0</td>\n",
       "    </tr>\n",
       "    <tr>\n",
       "      <th>3</th>\n",
       "      <td>A2WNBOD3WNDNKT</td>\n",
       "      <td>0439886341</td>\n",
       "      <td>3.0</td>\n",
       "    </tr>\n",
       "    <tr>\n",
       "      <th>4</th>\n",
       "      <td>A1GI0U4ZRJA8WN</td>\n",
       "      <td>0439886341</td>\n",
       "      <td>1.0</td>\n",
       "    </tr>\n",
       "  </tbody>\n",
       "</table>\n",
       "</div>"
      ],
      "text/plain": [
       "           userId   productId  ratings\n",
       "0   AKM1MP6P0OYPR  0132793040      5.0\n",
       "1  A2CX7LUOHB2NDG  0321732944      5.0\n",
       "2  A2NWSAGRHCP8N5  0439886341      1.0\n",
       "3  A2WNBOD3WNDNKT  0439886341      3.0\n",
       "4  A1GI0U4ZRJA8WN  0439886341      1.0"
      ]
     },
     "execution_count": 5,
     "metadata": {},
     "output_type": "execute_result"
    }
   ],
   "source": [
    "## Dropping column timestamp and displaying top 5 rows to verify\n",
    "e_ratings.drop(columns='timestamp', inplace=True)\n",
    "e_ratings.head()"
   ]
  },
  {
   "cell_type": "code",
   "execution_count": 6,
   "metadata": {},
   "outputs": [
    {
     "name": "stdout",
     "output_type": "stream",
     "text": [
      "<class 'pandas.core.frame.DataFrame'>\n",
      "RangeIndex: 7824482 entries, 0 to 7824481\n",
      "Data columns (total 3 columns):\n",
      " #   Column     Dtype  \n",
      "---  ------     -----  \n",
      " 0   userId     object \n",
      " 1   productId  object \n",
      " 2   ratings    float64\n",
      "dtypes: float64(1), object(2)\n",
      "memory usage: 179.1+ MB\n"
     ]
    }
   ],
   "source": [
    "## Displaying the dataset information\n",
    "e_ratings.info()"
   ]
  },
  {
   "cell_type": "code",
   "execution_count": 7,
   "metadata": {},
   "outputs": [
    {
     "data": {
      "text/plain": [
       "(7824482, 3)"
      ]
     },
     "execution_count": 7,
     "metadata": {},
     "output_type": "execute_result"
    }
   ],
   "source": [
    "## Displaying the shape of dataset\n",
    "e_ratings.shape"
   ]
  },
  {
   "cell_type": "code",
   "execution_count": 8,
   "metadata": {},
   "outputs": [
    {
     "data": {
      "text/plain": [
       "0"
      ]
     },
     "execution_count": 8,
     "metadata": {},
     "output_type": "execute_result"
    }
   ],
   "source": [
    "## Checking for null values\n",
    "e_ratings.isnull().sum().sum()"
   ]
  },
  {
   "cell_type": "code",
   "execution_count": 9,
   "metadata": {},
   "outputs": [
    {
     "name": "stdout",
     "output_type": "stream",
     "text": [
      "5.0    4347541\n",
      "4.0    1485781\n",
      "1.0     901765\n",
      "3.0     633073\n",
      "2.0     456322\n",
      "Name: ratings, dtype: int64\n"
     ]
    },
    {
     "data": {
      "image/png": "[encoded data removed]",
      "text/plain": [
       "<Figure size 432x288 with 1 Axes>"
      ]
     },
     "metadata": {
      "needs_background": "light"
     },
     "output_type": "display_data"
    }
   ],
   "source": [
    "### Displaying the count of records based on ratings\n",
    "print(e_ratings.ratings.value_counts())\n",
    "sns.countplot(x=e_ratings.ratings)\n",
    "plt.show()"
   ]
  },
  {
   "cell_type": "markdown",
   "metadata": {},
   "source": [
    "It can be seen from the above graph and value counts that 5 ratings has the highest count with over 4.3 million records while 2 ratings has lowest count with only 0.45 million records out of approx 7.8 million records"
   ]
  },
  {
   "cell_type": "markdown",
   "metadata": {},
   "source": [
    "Now to make data less dense and to create a recommendation model based on popularity and collaborative filtering, we will filter the original dataset according to the following conditions, based on userId as well as productId"
   ]
  },
  {
   "cell_type": "code",
   "execution_count": 10,
   "metadata": {},
   "outputs": [],
   "source": [
    "## filtering data based on userId ratings by grouping data based on userId \n",
    "#Calculating the count and mean of ratings.\n",
    "user_ratings=pd.DataFrame(e_ratings.groupby('userId')['ratings'].mean())\n",
    "user_ratings['counts']=pd.DataFrame(e_ratings.groupby('userId')['ratings'].count())\n",
    "\n",
    "## Filtering out the records with count of user rating less than 50. \n",
    "# Only these users will be used in both recommendation models\n",
    "user_ratings_count=user_ratings[(user_ratings.counts>50)]\n",
    "\n",
    "## Filtering out users with average ratings less than 3 for popularity.\n",
    "user_ratings_high=user_ratings_count[(user_ratings_count.ratings>3)]"
   ]
  },
  {
   "cell_type": "code",
   "execution_count": 11,
   "metadata": {},
   "outputs": [],
   "source": [
    "## Similarly filerting data based on productId ratings by grouping data based on product ID \n",
    "## Calculating count and mean of ratings\n",
    "product_ratings=pd.DataFrame(e_ratings.groupby('productId')['ratings'].mean())\n",
    "product_ratings['counts']=pd.DataFrame(e_ratings.groupby('productId')['ratings'].count())\n",
    "\n",
    "## Filtering the products with atleast 100 ratings and mean rating greater than 4\n",
    "product_ratings_high=product_ratings[(product_ratings.ratings>4) & (product_ratings.counts>100)]"
   ]
  },
  {
   "cell_type": "code",
   "execution_count": 12,
   "metadata": {},
   "outputs": [
    {
     "data": {
      "text/html": [
       "<div>\n",
       "<style scoped>\n",
       "    .dataframe tbody tr th:only-of-type {\n",
       "        vertical-align: middle;\n",
       "    }\n",
       "\n",
       "    .dataframe tbody tr th {\n",
       "        vertical-align: top;\n",
       "    }\n",
       "\n",
       "    .dataframe thead th {\n",
       "        text-align: right;\n",
       "    }\n",
       "</style>\n",
       "<table border=\"1\" class=\"dataframe\">\n",
       "  <thead>\n",
       "    <tr style=\"text-align: right;\">\n",
       "      <th></th>\n",
       "      <th>userId</th>\n",
       "      <th>productId</th>\n",
       "      <th>ratings</th>\n",
       "    </tr>\n",
       "  </thead>\n",
       "  <tbody>\n",
       "    <tr>\n",
       "      <th>492</th>\n",
       "      <td>A3CLWR1UUZT6TG</td>\n",
       "      <td>0972683275</td>\n",
       "      <td>5.0</td>\n",
       "    </tr>\n",
       "    <tr>\n",
       "      <th>631</th>\n",
       "      <td>A3TAS1AG6FMBQW</td>\n",
       "      <td>0972683275</td>\n",
       "      <td>5.0</td>\n",
       "    </tr>\n",
       "    <tr>\n",
       "      <th>1138</th>\n",
       "      <td>A25RTRAPQAJBDJ</td>\n",
       "      <td>0972683275</td>\n",
       "      <td>5.0</td>\n",
       "    </tr>\n",
       "    <tr>\n",
       "      <th>3235</th>\n",
       "      <td>A3LDPF5FMB782Z</td>\n",
       "      <td>1400698987</td>\n",
       "      <td>4.0</td>\n",
       "    </tr>\n",
       "    <tr>\n",
       "      <th>3296</th>\n",
       "      <td>A2JOPUWVV0XQJ3</td>\n",
       "      <td>1400698987</td>\n",
       "      <td>5.0</td>\n",
       "    </tr>\n",
       "    <tr>\n",
       "      <th>...</th>\n",
       "      <td>...</td>\n",
       "      <td>...</td>\n",
       "      <td>...</td>\n",
       "    </tr>\n",
       "    <tr>\n",
       "      <th>7821478</th>\n",
       "      <td>A18FLOC8YQY0P8</td>\n",
       "      <td>B00KFAGCUM</td>\n",
       "      <td>5.0</td>\n",
       "    </tr>\n",
       "    <tr>\n",
       "      <th>7821514</th>\n",
       "      <td>A3LPL35P7FH78Y</td>\n",
       "      <td>B00KFAGCUM</td>\n",
       "      <td>5.0</td>\n",
       "    </tr>\n",
       "    <tr>\n",
       "      <th>7821525</th>\n",
       "      <td>AR3EVUQF0AC7R</td>\n",
       "      <td>B00KFAGCUM</td>\n",
       "      <td>4.0</td>\n",
       "    </tr>\n",
       "    <tr>\n",
       "      <th>7821544</th>\n",
       "      <td>A3AVJCB1ZD6ZY5</td>\n",
       "      <td>B00KFAGCUM</td>\n",
       "      <td>5.0</td>\n",
       "    </tr>\n",
       "    <tr>\n",
       "      <th>7821564</th>\n",
       "      <td>A2UKE7GIVC7XFW</td>\n",
       "      <td>B00KFAGCUM</td>\n",
       "      <td>5.0</td>\n",
       "    </tr>\n",
       "  </tbody>\n",
       "</table>\n",
       "<p>38590 rows × 3 columns</p>\n",
       "</div>"
      ],
      "text/plain": [
       "                 userId   productId  ratings\n",
       "492      A3CLWR1UUZT6TG  0972683275      5.0\n",
       "631      A3TAS1AG6FMBQW  0972683275      5.0\n",
       "1138     A25RTRAPQAJBDJ  0972683275      5.0\n",
       "3235     A3LDPF5FMB782Z  1400698987      4.0\n",
       "3296     A2JOPUWVV0XQJ3  1400698987      5.0\n",
       "...                 ...         ...      ...\n",
       "7821478  A18FLOC8YQY0P8  B00KFAGCUM      5.0\n",
       "7821514  A3LPL35P7FH78Y  B00KFAGCUM      5.0\n",
       "7821525   AR3EVUQF0AC7R  B00KFAGCUM      4.0\n",
       "7821544  A3AVJCB1ZD6ZY5  B00KFAGCUM      5.0\n",
       "7821564  A2UKE7GIVC7XFW  B00KFAGCUM      5.0\n",
       "\n",
       "[38590 rows x 3 columns]"
      ]
     },
     "execution_count": 12,
     "metadata": {},
     "output_type": "execute_result"
    }
   ],
   "source": [
    "## Creating a dataframe following the 4 conditions:\n",
    "# mean user ratings greater than 3 and mean product rating greater than 4\n",
    "# user rating count greater than 50 and product rating count greater than 100\n",
    "e_ratings_filtered=e_ratings[(e_ratings.userId.isin(user_ratings_high.index)) & \n",
    "                              (e_ratings.productId.isin(product_ratings_high.index))]\n",
    "e_ratings_filtered"
   ]
  },
  {
   "cell_type": "code",
   "execution_count": 13,
   "metadata": {},
   "outputs": [
    {
     "data": {
      "text/plain": [
       "Index(['0972683275', 'B007ZFSAB4', 'B007V9ZNBY', 'B007VA05HU', 'B0036WT3XO',\n",
       "       'B0036WT3V6', 'B0036WT3RU', 'B0036WT3P2', 'B0036QL1JY', 'B0036ORCJY'],\n",
       "      dtype='object', name='productId')"
      ]
     },
     "execution_count": 13,
     "metadata": {},
     "output_type": "execute_result"
    }
   ],
   "source": [
    "## For the above filtered dataframe, finding the top rated products based on mean ratings\n",
    "N=10\n",
    "top_n_popular_products=e_ratings_filtered.groupby('productId')['ratings'].mean().sort_values(ascending=False).head(N).index\n",
    "top_n_popular_products"
   ]
  },
  {
   "cell_type": "markdown",
   "metadata": {},
   "source": [
    "Alternatively, a popularity recommendation model can be created purely using count of userIds that have rated the products. "
   ]
  },
  {
   "cell_type": "markdown",
   "metadata": {},
   "source": [
    "#### Case 1: When all records are considered"
   ]
  },
  {
   "cell_type": "code",
   "execution_count": 14,
   "metadata": {},
   "outputs": [
    {
     "data": {
      "text/html": [
       "<div>\n",
       "<style scoped>\n",
       "    .dataframe tbody tr th:only-of-type {\n",
       "        vertical-align: middle;\n",
       "    }\n",
       "\n",
       "    .dataframe tbody tr th {\n",
       "        vertical-align: top;\n",
       "    }\n",
       "\n",
       "    .dataframe thead th {\n",
       "        text-align: right;\n",
       "    }\n",
       "</style>\n",
       "<table border=\"1\" class=\"dataframe\">\n",
       "  <thead>\n",
       "    <tr style=\"text-align: right;\">\n",
       "      <th></th>\n",
       "      <th>productId</th>\n",
       "      <th>score</th>\n",
       "    </tr>\n",
       "  </thead>\n",
       "  <tbody>\n",
       "    <tr>\n",
       "      <th>0</th>\n",
       "      <td>0132793040</td>\n",
       "      <td>1</td>\n",
       "    </tr>\n",
       "    <tr>\n",
       "      <th>1</th>\n",
       "      <td>0321732944</td>\n",
       "      <td>1</td>\n",
       "    </tr>\n",
       "    <tr>\n",
       "      <th>2</th>\n",
       "      <td>0439886341</td>\n",
       "      <td>3</td>\n",
       "    </tr>\n",
       "    <tr>\n",
       "      <th>3</th>\n",
       "      <td>0511189877</td>\n",
       "      <td>6</td>\n",
       "    </tr>\n",
       "    <tr>\n",
       "      <th>4</th>\n",
       "      <td>0528881469</td>\n",
       "      <td>27</td>\n",
       "    </tr>\n",
       "  </tbody>\n",
       "</table>\n",
       "</div>"
      ],
      "text/plain": [
       "    productId  score\n",
       "0  0132793040      1\n",
       "1  0321732944      1\n",
       "2  0439886341      3\n",
       "3  0511189877      6\n",
       "4  0528881469     27"
      ]
     },
     "execution_count": 14,
     "metadata": {},
     "output_type": "execute_result"
    }
   ],
   "source": [
    "#Count of userId for each unique productId as recommendation score \n",
    "product_data_grouped = e_ratings.groupby('productId').agg({'userId':'count'}).reset_index()\n",
    "product_data_grouped.rename(columns = {'userId': 'score'},inplace=True)\n",
    "product_data_grouped.head()"
   ]
  },
  {
   "cell_type": "code",
   "execution_count": 15,
   "metadata": {},
   "outputs": [
    {
     "data": {
      "text/html": [
       "<div>\n",
       "<style scoped>\n",
       "    .dataframe tbody tr th:only-of-type {\n",
       "        vertical-align: middle;\n",
       "    }\n",
       "\n",
       "    .dataframe tbody tr th {\n",
       "        vertical-align: top;\n",
       "    }\n",
       "\n",
       "    .dataframe thead th {\n",
       "        text-align: right;\n",
       "    }\n",
       "</style>\n",
       "<table border=\"1\" class=\"dataframe\">\n",
       "  <thead>\n",
       "    <tr style=\"text-align: right;\">\n",
       "      <th></th>\n",
       "      <th>productId</th>\n",
       "      <th>score</th>\n",
       "      <th>Rank</th>\n",
       "    </tr>\n",
       "  </thead>\n",
       "  <tbody>\n",
       "    <tr>\n",
       "      <th>308398</th>\n",
       "      <td>B0074BW614</td>\n",
       "      <td>18244</td>\n",
       "      <td>1.0</td>\n",
       "    </tr>\n",
       "    <tr>\n",
       "      <th>429572</th>\n",
       "      <td>B00DR0PDNE</td>\n",
       "      <td>16454</td>\n",
       "      <td>2.0</td>\n",
       "    </tr>\n",
       "    <tr>\n",
       "      <th>327308</th>\n",
       "      <td>B007WTAJTO</td>\n",
       "      <td>14172</td>\n",
       "      <td>3.0</td>\n",
       "    </tr>\n",
       "    <tr>\n",
       "      <th>102804</th>\n",
       "      <td>B0019EHU8G</td>\n",
       "      <td>12285</td>\n",
       "      <td>4.0</td>\n",
       "    </tr>\n",
       "    <tr>\n",
       "      <th>296625</th>\n",
       "      <td>B006GWO5WK</td>\n",
       "      <td>12226</td>\n",
       "      <td>5.0</td>\n",
       "    </tr>\n",
       "  </tbody>\n",
       "</table>\n",
       "</div>"
      ],
      "text/plain": [
       "         productId  score  Rank\n",
       "308398  B0074BW614  18244   1.0\n",
       "429572  B00DR0PDNE  16454   2.0\n",
       "327308  B007WTAJTO  14172   3.0\n",
       "102804  B0019EHU8G  12285   4.0\n",
       "296625  B006GWO5WK  12226   5.0"
      ]
     },
     "execution_count": 15,
     "metadata": {},
     "output_type": "execute_result"
    }
   ],
   "source": [
    "#Sorting the products on recommendation score \n",
    "product_data_sort = product_data_grouped.sort_values(['score', 'productId'], ascending = [0,1]) \n",
    "      \n",
    "#Generating a recommendation rank based upon score \n",
    "product_data_sort['Rank'] = product_data_sort['score'].rank(ascending=0, method='first') \n",
    "          \n",
    "#Get the top 5 recommendations \n",
    "popularity_recommendations = product_data_sort.head(5) \n",
    "popularity_recommendations "
   ]
  },
  {
   "cell_type": "markdown",
   "metadata": {},
   "source": [
    "#### Case 2: When only users with more than 50 ratings are considered:"
   ]
  },
  {
   "cell_type": "code",
   "execution_count": 16,
   "metadata": {},
   "outputs": [
    {
     "data": {
      "text/html": [
       "<div>\n",
       "<style scoped>\n",
       "    .dataframe tbody tr th:only-of-type {\n",
       "        vertical-align: middle;\n",
       "    }\n",
       "\n",
       "    .dataframe tbody tr th {\n",
       "        vertical-align: top;\n",
       "    }\n",
       "\n",
       "    .dataframe thead th {\n",
       "        text-align: right;\n",
       "    }\n",
       "</style>\n",
       "<table border=\"1\" class=\"dataframe\">\n",
       "  <thead>\n",
       "    <tr style=\"text-align: right;\">\n",
       "      <th></th>\n",
       "      <th>productId</th>\n",
       "      <th>score</th>\n",
       "    </tr>\n",
       "  </thead>\n",
       "  <tbody>\n",
       "    <tr>\n",
       "      <th>0</th>\n",
       "      <td>0972683275</td>\n",
       "      <td>3</td>\n",
       "    </tr>\n",
       "    <tr>\n",
       "      <th>1</th>\n",
       "      <td>1400698987</td>\n",
       "      <td>2</td>\n",
       "    </tr>\n",
       "    <tr>\n",
       "      <th>2</th>\n",
       "      <td>9983891212</td>\n",
       "      <td>7</td>\n",
       "    </tr>\n",
       "    <tr>\n",
       "      <th>3</th>\n",
       "      <td>B00000DM9W</td>\n",
       "      <td>5</td>\n",
       "    </tr>\n",
       "    <tr>\n",
       "      <th>4</th>\n",
       "      <td>B00000J061</td>\n",
       "      <td>4</td>\n",
       "    </tr>\n",
       "  </tbody>\n",
       "</table>\n",
       "</div>"
      ],
      "text/plain": [
       "    productId  score\n",
       "0  0972683275      3\n",
       "1  1400698987      2\n",
       "2  9983891212      7\n",
       "3  B00000DM9W      5\n",
       "4  B00000J061      4"
      ]
     },
     "execution_count": 16,
     "metadata": {},
     "output_type": "execute_result"
    }
   ],
   "source": [
    "#Count of userId for each unique productId as recommendation score \n",
    "product_filtered_grouped = e_ratings_filtered.groupby('productId').agg({'userId':'count'}).reset_index()\n",
    "product_filtered_grouped.rename(columns = {'userId': 'score'},inplace=True)\n",
    "product_filtered_grouped.head()"
   ]
  },
  {
   "cell_type": "code",
   "execution_count": 17,
   "metadata": {},
   "outputs": [
    {
     "data": {
      "text/html": [
       "<div>\n",
       "<style scoped>\n",
       "    .dataframe tbody tr th:only-of-type {\n",
       "        vertical-align: middle;\n",
       "    }\n",
       "\n",
       "    .dataframe tbody tr th {\n",
       "        vertical-align: top;\n",
       "    }\n",
       "\n",
       "    .dataframe thead th {\n",
       "        text-align: right;\n",
       "    }\n",
       "</style>\n",
       "<table border=\"1\" class=\"dataframe\">\n",
       "  <thead>\n",
       "    <tr style=\"text-align: right;\">\n",
       "      <th></th>\n",
       "      <th>productId</th>\n",
       "      <th>score</th>\n",
       "      <th>Rank</th>\n",
       "    </tr>\n",
       "  </thead>\n",
       "  <tbody>\n",
       "    <tr>\n",
       "      <th>2808</th>\n",
       "      <td>B003ES5ZUU</td>\n",
       "      <td>177</td>\n",
       "      <td>1.0</td>\n",
       "    </tr>\n",
       "    <tr>\n",
       "      <th>1080</th>\n",
       "      <td>B000N99BBC</td>\n",
       "      <td>163</td>\n",
       "      <td>2.0</td>\n",
       "    </tr>\n",
       "    <tr>\n",
       "      <th>4728</th>\n",
       "      <td>B007WTAJTO</td>\n",
       "      <td>155</td>\n",
       "      <td>3.0</td>\n",
       "    </tr>\n",
       "    <tr>\n",
       "      <th>3322</th>\n",
       "      <td>B004CLYEDC</td>\n",
       "      <td>117</td>\n",
       "      <td>4.0</td>\n",
       "    </tr>\n",
       "    <tr>\n",
       "      <th>2499</th>\n",
       "      <td>B002SZEOLG</td>\n",
       "      <td>107</td>\n",
       "      <td>5.0</td>\n",
       "    </tr>\n",
       "  </tbody>\n",
       "</table>\n",
       "</div>"
      ],
      "text/plain": [
       "       productId  score  Rank\n",
       "2808  B003ES5ZUU    177   1.0\n",
       "1080  B000N99BBC    163   2.0\n",
       "4728  B007WTAJTO    155   3.0\n",
       "3322  B004CLYEDC    117   4.0\n",
       "2499  B002SZEOLG    107   5.0"
      ]
     },
     "execution_count": 17,
     "metadata": {},
     "output_type": "execute_result"
    }
   ],
   "source": [
    "#Sort the products on recommendation score \n",
    "product_filtered_sort = product_filtered_grouped.sort_values(['score', 'productId'], ascending = [0,1]) \n",
    "      \n",
    "#Generate a recommendation rank based upon score \n",
    "product_filtered_sort['Rank'] = product_filtered_sort['score'].rank(ascending=0, method='first') \n",
    "          \n",
    "#Get the top 5 recommendations \n",
    "popularity_recommendations = product_filtered_sort.head(5) \n",
    "popularity_recommendations "
   ]
  },
  {
   "cell_type": "markdown",
   "metadata": {},
   "source": [
    "### Since these recommendations are independent of users (as seen in df), the same recommendations will be provided to all the users regardless of their preferences, Hence popularity based recommendations"
   ]
  },
  {
   "cell_type": "markdown",
   "metadata": {},
   "source": [
    "###### Now creating a dataset of users with more than 50 rating count for making original dataset less dense.\n",
    "The collaborative filtering model will be prepared on this dataset"
   ]
  },
  {
   "cell_type": "code",
   "execution_count": 18,
   "metadata": {},
   "outputs": [
    {
     "data": {
      "text/html": [
       "<div>\n",
       "<style scoped>\n",
       "    .dataframe tbody tr th:only-of-type {\n",
       "        vertical-align: middle;\n",
       "    }\n",
       "\n",
       "    .dataframe tbody tr th {\n",
       "        vertical-align: top;\n",
       "    }\n",
       "\n",
       "    .dataframe thead th {\n",
       "        text-align: right;\n",
       "    }\n",
       "</style>\n",
       "<table border=\"1\" class=\"dataframe\">\n",
       "  <thead>\n",
       "    <tr style=\"text-align: right;\">\n",
       "      <th></th>\n",
       "      <th>userId</th>\n",
       "      <th>productId</th>\n",
       "      <th>ratings</th>\n",
       "    </tr>\n",
       "  </thead>\n",
       "  <tbody>\n",
       "    <tr>\n",
       "      <th>118</th>\n",
       "      <td>AT09WGFUM934H</td>\n",
       "      <td>0594481813</td>\n",
       "      <td>3.0</td>\n",
       "    </tr>\n",
       "    <tr>\n",
       "      <th>177</th>\n",
       "      <td>A32HSNCNPRUMTR</td>\n",
       "      <td>0970407998</td>\n",
       "      <td>1.0</td>\n",
       "    </tr>\n",
       "    <tr>\n",
       "      <th>178</th>\n",
       "      <td>A17HMM1M7T9PJ1</td>\n",
       "      <td>0970407998</td>\n",
       "      <td>4.0</td>\n",
       "    </tr>\n",
       "    <tr>\n",
       "      <th>492</th>\n",
       "      <td>A3CLWR1UUZT6TG</td>\n",
       "      <td>0972683275</td>\n",
       "      <td>5.0</td>\n",
       "    </tr>\n",
       "    <tr>\n",
       "      <th>631</th>\n",
       "      <td>A3TAS1AG6FMBQW</td>\n",
       "      <td>0972683275</td>\n",
       "      <td>5.0</td>\n",
       "    </tr>\n",
       "    <tr>\n",
       "      <th>...</th>\n",
       "      <td>...</td>\n",
       "      <td>...</td>\n",
       "      <td>...</td>\n",
       "    </tr>\n",
       "    <tr>\n",
       "      <th>7824426</th>\n",
       "      <td>A1E1LEVQ9VQNK</td>\n",
       "      <td>B00LGQ6HL8</td>\n",
       "      <td>5.0</td>\n",
       "    </tr>\n",
       "    <tr>\n",
       "      <th>7824427</th>\n",
       "      <td>A2NYK9KWFMJV4Y</td>\n",
       "      <td>B00LGQ6HL8</td>\n",
       "      <td>5.0</td>\n",
       "    </tr>\n",
       "    <tr>\n",
       "      <th>7824436</th>\n",
       "      <td>A3AYSYSLHU26U9</td>\n",
       "      <td>B00LI4ZZO8</td>\n",
       "      <td>4.0</td>\n",
       "    </tr>\n",
       "    <tr>\n",
       "      <th>7824438</th>\n",
       "      <td>A2NYK9KWFMJV4Y</td>\n",
       "      <td>B00LI4ZZO8</td>\n",
       "      <td>5.0</td>\n",
       "    </tr>\n",
       "    <tr>\n",
       "      <th>7824444</th>\n",
       "      <td>A2BYV7S1QP2YIG</td>\n",
       "      <td>B00LKG1MC8</td>\n",
       "      <td>5.0</td>\n",
       "    </tr>\n",
       "  </tbody>\n",
       "</table>\n",
       "<p>122171 rows × 3 columns</p>\n",
       "</div>"
      ],
      "text/plain": [
       "                 userId   productId  ratings\n",
       "118       AT09WGFUM934H  0594481813      3.0\n",
       "177      A32HSNCNPRUMTR  0970407998      1.0\n",
       "178      A17HMM1M7T9PJ1  0970407998      4.0\n",
       "492      A3CLWR1UUZT6TG  0972683275      5.0\n",
       "631      A3TAS1AG6FMBQW  0972683275      5.0\n",
       "...                 ...         ...      ...\n",
       "7824426   A1E1LEVQ9VQNK  B00LGQ6HL8      5.0\n",
       "7824427  A2NYK9KWFMJV4Y  B00LGQ6HL8      5.0\n",
       "7824436  A3AYSYSLHU26U9  B00LI4ZZO8      4.0\n",
       "7824438  A2NYK9KWFMJV4Y  B00LI4ZZO8      5.0\n",
       "7824444  A2BYV7S1QP2YIG  B00LKG1MC8      5.0\n",
       "\n",
       "[122171 rows x 3 columns]"
      ]
     },
     "execution_count": 18,
     "metadata": {},
     "output_type": "execute_result"
    }
   ],
   "source": [
    "## Dataset with users having more than 50 rating records.\n",
    "e_ratings_filtered_users=e_ratings[(e_ratings.userId.isin(user_ratings_count.index))]\n",
    "e_ratings_filtered_users"
   ]
  },
  {
   "cell_type": "code",
   "execution_count": 19,
   "metadata": {},
   "outputs": [],
   "source": [
    "## Defining reader and data using Reader and Dataset from surprise library to create surprise dataframes for recommender models\n",
    "reader = Reader()\n",
    "data=Dataset.load_from_df(e_ratings_filtered_users,reader)"
   ]
  },
  {
   "cell_type": "code",
   "execution_count": 20,
   "metadata": {},
   "outputs": [
    {
     "data": {
      "text/html": [
       "<div>\n",
       "<style scoped>\n",
       "    .dataframe tbody tr th:only-of-type {\n",
       "        vertical-align: middle;\n",
       "    }\n",
       "\n",
       "    .dataframe tbody tr th {\n",
       "        vertical-align: top;\n",
       "    }\n",
       "\n",
       "    .dataframe thead th {\n",
       "        text-align: right;\n",
       "    }\n",
       "</style>\n",
       "<table border=\"1\" class=\"dataframe\">\n",
       "  <thead>\n",
       "    <tr style=\"text-align: right;\">\n",
       "      <th></th>\n",
       "      <th>userId</th>\n",
       "      <th>productId</th>\n",
       "      <th>ratings</th>\n",
       "    </tr>\n",
       "  </thead>\n",
       "  <tbody>\n",
       "    <tr>\n",
       "      <th>118</th>\n",
       "      <td>AT09WGFUM934H</td>\n",
       "      <td>0594481813</td>\n",
       "      <td>3.0</td>\n",
       "    </tr>\n",
       "    <tr>\n",
       "      <th>177</th>\n",
       "      <td>A32HSNCNPRUMTR</td>\n",
       "      <td>0970407998</td>\n",
       "      <td>1.0</td>\n",
       "    </tr>\n",
       "    <tr>\n",
       "      <th>178</th>\n",
       "      <td>A17HMM1M7T9PJ1</td>\n",
       "      <td>0970407998</td>\n",
       "      <td>4.0</td>\n",
       "    </tr>\n",
       "    <tr>\n",
       "      <th>492</th>\n",
       "      <td>A3CLWR1UUZT6TG</td>\n",
       "      <td>0972683275</td>\n",
       "      <td>5.0</td>\n",
       "    </tr>\n",
       "    <tr>\n",
       "      <th>631</th>\n",
       "      <td>A3TAS1AG6FMBQW</td>\n",
       "      <td>0972683275</td>\n",
       "      <td>5.0</td>\n",
       "    </tr>\n",
       "    <tr>\n",
       "      <th>...</th>\n",
       "      <td>...</td>\n",
       "      <td>...</td>\n",
       "      <td>...</td>\n",
       "    </tr>\n",
       "    <tr>\n",
       "      <th>7824426</th>\n",
       "      <td>A1E1LEVQ9VQNK</td>\n",
       "      <td>B00LGQ6HL8</td>\n",
       "      <td>5.0</td>\n",
       "    </tr>\n",
       "    <tr>\n",
       "      <th>7824427</th>\n",
       "      <td>A2NYK9KWFMJV4Y</td>\n",
       "      <td>B00LGQ6HL8</td>\n",
       "      <td>5.0</td>\n",
       "    </tr>\n",
       "    <tr>\n",
       "      <th>7824436</th>\n",
       "      <td>A3AYSYSLHU26U9</td>\n",
       "      <td>B00LI4ZZO8</td>\n",
       "      <td>4.0</td>\n",
       "    </tr>\n",
       "    <tr>\n",
       "      <th>7824438</th>\n",
       "      <td>A2NYK9KWFMJV4Y</td>\n",
       "      <td>B00LI4ZZO8</td>\n",
       "      <td>5.0</td>\n",
       "    </tr>\n",
       "    <tr>\n",
       "      <th>7824444</th>\n",
       "      <td>A2BYV7S1QP2YIG</td>\n",
       "      <td>B00LKG1MC8</td>\n",
       "      <td>5.0</td>\n",
       "    </tr>\n",
       "  </tbody>\n",
       "</table>\n",
       "<p>122171 rows × 3 columns</p>\n",
       "</div>"
      ],
      "text/plain": [
       "                 userId   productId  ratings\n",
       "118       AT09WGFUM934H  0594481813      3.0\n",
       "177      A32HSNCNPRUMTR  0970407998      1.0\n",
       "178      A17HMM1M7T9PJ1  0970407998      4.0\n",
       "492      A3CLWR1UUZT6TG  0972683275      5.0\n",
       "631      A3TAS1AG6FMBQW  0972683275      5.0\n",
       "...                 ...         ...      ...\n",
       "7824426   A1E1LEVQ9VQNK  B00LGQ6HL8      5.0\n",
       "7824427  A2NYK9KWFMJV4Y  B00LGQ6HL8      5.0\n",
       "7824436  A3AYSYSLHU26U9  B00LI4ZZO8      4.0\n",
       "7824438  A2NYK9KWFMJV4Y  B00LI4ZZO8      5.0\n",
       "7824444  A2BYV7S1QP2YIG  B00LKG1MC8      5.0\n",
       "\n",
       "[122171 rows x 3 columns]"
      ]
     },
     "execution_count": 20,
     "metadata": {},
     "output_type": "execute_result"
    }
   ],
   "source": [
    "## Visualising the data dataframe\n",
    "data.df"
   ]
  },
  {
   "cell_type": "code",
   "execution_count": 21,
   "metadata": {},
   "outputs": [],
   "source": [
    "## Splitting the dataset into train and test in 70:30 ratio\n",
    "trainset, testset = train_test_split(data, test_size=0.3)"
   ]
  },
  {
   "cell_type": "markdown",
   "metadata": {},
   "source": [
    "For item-item collaborative model, the dataset size is very large, so we will randomly select 10K records out of the above original filtered dataset for creating item-item collaborative model"
   ]
  },
  {
   "cell_type": "code",
   "execution_count": 22,
   "metadata": {},
   "outputs": [],
   "source": [
    "## Randomly selecting 10k records and defining the data_sample surprise dataframe.\n",
    "e_ratings_filtered_users_sample=e_ratings_filtered_users.sample(n=10000,random_state=10)\n",
    "data_sample=Dataset.load_from_df(e_ratings_filtered_users_sample,reader)\n",
    "## Splitting the sampled surprise df into 70:30 train test ratio for model.\n",
    "train_sample, test_sample = train_test_split(data_sample, test_size=0.3)"
   ]
  },
  {
   "cell_type": "code",
   "execution_count": 23,
   "metadata": {},
   "outputs": [
    {
     "name": "stdout",
     "output_type": "stream",
     "text": [
      "Estimating biases using als...\n",
      "Computing the pearson_baseline similarity matrix...\n",
      "Done computing similarity matrix.\n",
      "RMSE: 1.1175\n"
     ]
    },
    {
     "data": {
      "text/plain": [
       "1.1174754104515836"
      ]
     },
     "execution_count": 23,
     "metadata": {},
     "output_type": "execute_result"
    }
   ],
   "source": [
    "## fitting the data on knnwithmeans model with user-based option set to false, enabling item-item collaborative filtering.\n",
    "item_item=KNNWithMeans(k=5,sim_options={'name': 'pearson_baseline', 'user_based': False},random_state=10)\n",
    "item_item.fit(train_sample)\n",
    "test_pred_item = item_item.test(test_sample)\n",
    "\n",
    "## calculating the rmse score for item-item collaborative filtering\n",
    "accuracy.rmse(test_pred_item)"
   ]
  },
  {
   "cell_type": "markdown",
   "metadata": {},
   "source": [
    "For item-based collaborative filtering model, the RMSE score is 1.15"
   ]
  },
  {
   "cell_type": "code",
   "execution_count": 24,
   "metadata": {},
   "outputs": [
    {
     "name": "stdout",
     "output_type": "stream",
     "text": [
      "RMSE: 1.6206\n"
     ]
    },
    {
     "data": {
      "text/plain": [
       "1.6205852525325692"
      ]
     },
     "execution_count": 24,
     "metadata": {},
     "output_type": "execute_result"
    }
   ],
   "source": [
    "### Now fitting the original trainset on SVD model\n",
    "svd_model = SVD(n_factors=5,biased=False, random_state=10)\n",
    "svd_model.fit(trainset)\n",
    "test_pred = svd_model.test(testset)\n",
    "## Calculating the RMSE score\n",
    "accuracy.rmse(test_pred)"
   ]
  },
  {
   "cell_type": "markdown",
   "metadata": {},
   "source": [
    "For SVD collaborative filtering, the RMSE score is 1.66"
   ]
  },
  {
   "cell_type": "code",
   "execution_count": 25,
   "metadata": {},
   "outputs": [
    {
     "name": "stdout",
     "output_type": "stream",
     "text": [
      "Estimating biases using als...\n",
      "Computing the pearson_baseline similarity matrix...\n",
      "Done computing similarity matrix.\n",
      "RMSE: 1.0502\n"
     ]
    },
    {
     "data": {
      "text/plain": [
       "1.0502309486150816"
      ]
     },
     "execution_count": 25,
     "metadata": {},
     "output_type": "execute_result"
    }
   ],
   "source": [
    "## Finally fitting the original trainset on KNNWithMeans model having user-based option set, enabling user-based filtering\n",
    "user_user = KNNWithMeans(k=5,sim_options={'name': 'pearson_baseline', 'user_based': True},random_state=10)\n",
    "user_user.fit(trainset)\n",
    "test_pred_user = user_user.test(testset)\n",
    "## Calculating the RMSE score\n",
    "accuracy.rmse(test_pred_user)"
   ]
  },
  {
   "cell_type": "markdown",
   "metadata": {},
   "source": [
    "For user-based collaborative filtering model, the RMSE score is 1.05 "
   ]
  },
  {
   "cell_type": "markdown",
   "metadata": {},
   "source": [
    "#### Since the RMSE score is least for user-based collaborative filtering, we will use the prediction dataset based on it for recommending products"
   ]
  },
  {
   "cell_type": "code",
   "execution_count": 26,
   "metadata": {},
   "outputs": [
    {
     "data": {
      "text/html": [
       "<div>\n",
       "<style scoped>\n",
       "    .dataframe tbody tr th:only-of-type {\n",
       "        vertical-align: middle;\n",
       "    }\n",
       "\n",
       "    .dataframe tbody tr th {\n",
       "        vertical-align: top;\n",
       "    }\n",
       "\n",
       "    .dataframe thead th {\n",
       "        text-align: right;\n",
       "    }\n",
       "</style>\n",
       "<table border=\"1\" class=\"dataframe\">\n",
       "  <thead>\n",
       "    <tr style=\"text-align: right;\">\n",
       "      <th></th>\n",
       "      <th>uid</th>\n",
       "      <th>iid</th>\n",
       "      <th>r_ui</th>\n",
       "      <th>est</th>\n",
       "      <th>details</th>\n",
       "    </tr>\n",
       "  </thead>\n",
       "  <tbody>\n",
       "    <tr>\n",
       "      <th>0</th>\n",
       "      <td>A8CKH8XB33XGN</td>\n",
       "      <td>B006LFK16Q</td>\n",
       "      <td>4.0</td>\n",
       "      <td>4.260609</td>\n",
       "      <td>{'was_impossible': True, 'reason': 'User and/o...</td>\n",
       "    </tr>\n",
       "    <tr>\n",
       "      <th>1</th>\n",
       "      <td>A2I357I10ZY7CI</td>\n",
       "      <td>B005ONMDYE</td>\n",
       "      <td>4.0</td>\n",
       "      <td>5.000000</td>\n",
       "      <td>{'actual_k': 1, 'was_impossible': False}</td>\n",
       "    </tr>\n",
       "    <tr>\n",
       "      <th>2</th>\n",
       "      <td>A1ZCSSCAGBCD49</td>\n",
       "      <td>B005KQ2O26</td>\n",
       "      <td>5.0</td>\n",
       "      <td>3.570637</td>\n",
       "      <td>{'actual_k': 1, 'was_impossible': False}</td>\n",
       "    </tr>\n",
       "    <tr>\n",
       "      <th>3</th>\n",
       "      <td>A335QXPTV1RIV1</td>\n",
       "      <td>B001FSEXRC</td>\n",
       "      <td>5.0</td>\n",
       "      <td>4.260609</td>\n",
       "      <td>{'was_impossible': True, 'reason': 'User and/o...</td>\n",
       "    </tr>\n",
       "    <tr>\n",
       "      <th>4</th>\n",
       "      <td>A18OTCHQ6MXD6X</td>\n",
       "      <td>B004WO8HQ4</td>\n",
       "      <td>5.0</td>\n",
       "      <td>4.354167</td>\n",
       "      <td>{'actual_k': 0, 'was_impossible': False}</td>\n",
       "    </tr>\n",
       "  </tbody>\n",
       "</table>\n",
       "</div>"
      ],
      "text/plain": [
       "              uid         iid  r_ui       est  \\\n",
       "0   A8CKH8XB33XGN  B006LFK16Q   4.0  4.260609   \n",
       "1  A2I357I10ZY7CI  B005ONMDYE   4.0  5.000000   \n",
       "2  A1ZCSSCAGBCD49  B005KQ2O26   5.0  3.570637   \n",
       "3  A335QXPTV1RIV1  B001FSEXRC   5.0  4.260609   \n",
       "4  A18OTCHQ6MXD6X  B004WO8HQ4   5.0  4.354167   \n",
       "\n",
       "                                             details  \n",
       "0  {'was_impossible': True, 'reason': 'User and/o...  \n",
       "1           {'actual_k': 1, 'was_impossible': False}  \n",
       "2           {'actual_k': 1, 'was_impossible': False}  \n",
       "3  {'was_impossible': True, 'reason': 'User and/o...  \n",
       "4           {'actual_k': 0, 'was_impossible': False}  "
      ]
     },
     "execution_count": 26,
     "metadata": {},
     "output_type": "execute_result"
    }
   ],
   "source": [
    "## creating test set dataframe for recommending products\n",
    "pred = pd.DataFrame(test_pred_user)\n",
    "pred.head()"
   ]
  },
  {
   "cell_type": "code",
   "execution_count": 27,
   "metadata": {},
   "outputs": [],
   "source": [
    "## creating function to recommend top 5 products based on user id\n",
    "def top_5_recommendations(uid):\n",
    "    print(\"Top 5 recommended productId for userId:\",uid)\n",
    "    print(pred[pred['uid'] == uid ][['iid', 'r_ui']].sort_values(by = 'r_ui',ascending = False).head(5)['iid'])"
   ]
  },
  {
   "cell_type": "code",
   "execution_count": 28,
   "metadata": {},
   "outputs": [
    {
     "name": "stdout",
     "output_type": "stream",
     "text": [
      "Top 5 recommended productId for userId: A1JUBRIZMO0RJV\n",
      "2512     B000BNNGUC\n",
      "13530    B002Q0W82A\n",
      "19559    B000932AMO\n",
      "4099     B001FA1NEG\n",
      "17290    B001F7AHXW\n",
      "Name: iid, dtype: object\n",
      "Top 5 recommended productId for userId: A2I357I10ZY7CI\n",
      "35406    B002ZV6U1A\n",
      "14445    B0079M711S\n",
      "21064    B001TH7GUK\n",
      "20635    B002BOX230\n",
      "26173    B004FLESGW\n",
      "Name: iid, dtype: object\n",
      "Top 5 recommended productId for userId: A27QXQQOLAMRRR\n",
      "14071    B0009O6IXA\n",
      "9631     B0002YE6EU\n",
      "33871    B000GGQCIM\n",
      "27153    B000FNBYKW\n",
      "22452    B00J238GV6\n",
      "Name: iid, dtype: object\n"
     ]
    }
   ],
   "source": [
    "## Displaying the top 5 product recommendations for randomly selected 3 users\n",
    "for i in e_ratings_filtered_users.userId.sample(n=3).tolist():\n",
    "    top_5_recommendations(i)"
   ]
  },
  {
   "cell_type": "code",
   "execution_count": 29,
   "metadata": {},
   "outputs": [
    {
     "name": "stdout",
     "output_type": "stream",
     "text": [
      "Top 5 recommended productId for userId: A10H24TDLK2VDP\n",
      "16903    B00FG38L16\n",
      "25313    B000FVZC66\n",
      "5231     B00BOHNYU6\n",
      "6703     B0007RB280\n",
      "6782     B009Z7KMUM\n",
      "Name: iid, dtype: object\n"
     ]
    }
   ],
   "source": [
    "## Displaying top 5 recommendation for a specific user\n",
    "userID='A10H24TDLK2VDP'\n",
    "top_5_recommendations(userID)"
   ]
  },
  {
   "cell_type": "markdown",
   "metadata": {},
   "source": [
    "#### Insights:"
   ]
  },
  {
   "cell_type": "markdown",
   "metadata": {},
   "source": [
    "1. Popularity based recommendation systems are not personalised and the recommendations are usually based on frequency of user ratings. The model can be altered to consist of only specific users and high mean ratings, but the recommendations would remain same for all users once the model is set.\n",
    "\n",
    "2. Collaborative filering models are based on past user behavior vis similarity in user profiles or similarity in item choices. Here the User-based collaborative filering model had the lowest RMSE score followed by item-based collaborative filtering model and then SVD model.\n",
    "\n",
    "3. The recommendations predicted by collaborative filtering model are personalised and dependent on user and its past behaviour. No additional information is required in this case."
   ]
  }
 ],
 "metadata": {
  "kernelspec": {
   "display_name": "Python 3",
   "language": "python",
   "name": "python3"
  },
  "language_info": {
   "codemirror_mode": {
    "name": "ipython",
    "version": 3
   },
   "file_extension": ".py",
   "mimetype": "text/x-python",
   "name": "python",
   "nbconvert_exporter": "python",
   "pygments_lexer": "ipython3",
   "version": "3.7.7"
  }
 },
 "nbformat": 4,
 "nbformat_minor": 4
}
